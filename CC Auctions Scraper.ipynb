{
 "cells": [
  {
   "cell_type": "code",
   "execution_count": 1,
   "id": "e4ce8b43",
   "metadata": {},
   "outputs": [],
   "source": [
    "from selenium import webdriver\n",
    "from selenium.webdriver.support.ui import Select\n",
    "from selenium.webdriver.support.ui import WebDriverWait\n",
    "from selenium.webdriver.support import expected_conditions as EC\n",
    "from selenium.webdriver.common.by import By\n",
    "from selenium.webdriver.common.keys import Keys\n",
    "from bs4 import BeautifulSoup\n",
    "import pandas as pd\n",
    "\n",
    "timeout = 25"
   ]
  },
  {
   "cell_type": "code",
   "execution_count": 2,
   "id": "3a384bbd",
   "metadata": {},
   "outputs": [],
   "source": [
    "driver = webdriver.Chrome()\n",
    "\n",
    "scrape = 3"
   ]
  },
  {
   "cell_type": "code",
   "execution_count": 3,
   "id": "3d2ea066",
   "metadata": {
    "scrolled": false
   },
   "outputs": [
    {
     "ename": "NoSuchWindowException",
     "evalue": "Message: no such window: window was already closed\n  (Session info: chrome=104.0.5112.82)\nStacktrace:\nBacktrace:\n\tOrdinal0 [0x00A35FD3+2187219]\n\tOrdinal0 [0x009CE6D1+1763025]\n\tOrdinal0 [0x008E3E78+802424]\n\tOrdinal0 [0x008D9AC4+760516]\n\tOrdinal0 [0x008DAB02+764674]\n\tOrdinal0 [0x008D4379+738169]\n\tOrdinal0 [0x008E51D0+807376]\n\tOrdinal0 [0x0093C7A2+1165218]\n\tOrdinal0 [0x0092C9A6+1100198]\n\tOrdinal0 [0x00906F80+946048]\n\tOrdinal0 [0x00907E76+949878]\n\tGetHandleVerifier [0x00CD90C2+2721218]\n\tGetHandleVerifier [0x00CCAAF0+2662384]\n\tGetHandleVerifier [0x00AC137A+526458]\n\tGetHandleVerifier [0x00AC0416+522518]\n\tOrdinal0 [0x009D4EAB+1789611]\n\tOrdinal0 [0x009D97A8+1808296]\n\tOrdinal0 [0x009D9895+1808533]\n\tOrdinal0 [0x009E26C1+1844929]\n\tBaseThreadInitThunk [0x74EEFA29+25]\n\tRtlGetAppContainerNamedObjectPath [0x77067A9E+286]\n\tRtlGetAppContainerNamedObjectPath [0x77067A6E+238]\n",
     "output_type": "error",
     "traceback": [
      "\u001b[1;31m---------------------------------------------------------------------------\u001b[0m",
      "\u001b[1;31mNoSuchWindowException\u001b[0m                     Traceback (most recent call last)",
      "\u001b[1;32m~\\AppData\\Local\\Temp/ipykernel_7000/97402809.py\u001b[0m in \u001b[0;36m<module>\u001b[1;34m\u001b[0m\n\u001b[0;32m      2\u001b[0m \u001b[0mdriver\u001b[0m\u001b[1;33m.\u001b[0m\u001b[0mget\u001b[0m\u001b[1;33m(\u001b[0m\u001b[0murl\u001b[0m\u001b[1;33m)\u001b[0m\u001b[1;33m\u001b[0m\u001b[1;33m\u001b[0m\u001b[0m\n\u001b[0;32m      3\u001b[0m \u001b[0melement_present\u001b[0m \u001b[1;33m=\u001b[0m \u001b[0mEC\u001b[0m\u001b[1;33m.\u001b[0m\u001b[0mpresence_of_element_located\u001b[0m\u001b[1;33m(\u001b[0m\u001b[1;33m(\u001b[0m\u001b[0mBy\u001b[0m\u001b[1;33m.\u001b[0m\u001b[0mXPATH\u001b[0m\u001b[1;33m,\u001b[0m \u001b[1;34mr\"/html/body/div[1]/div[2]/div[2]/div[1]/div[1]/div[2]/div/div[3]/div[1]\"\u001b[0m\u001b[1;33m)\u001b[0m\u001b[1;33m)\u001b[0m\u001b[1;33m\u001b[0m\u001b[1;33m\u001b[0m\u001b[0m\n\u001b[1;32m----> 4\u001b[1;33m \u001b[0mWebDriverWait\u001b[0m\u001b[1;33m(\u001b[0m\u001b[0mdriver\u001b[0m\u001b[1;33m,\u001b[0m \u001b[0mtimeout\u001b[0m\u001b[1;33m)\u001b[0m\u001b[1;33m.\u001b[0m\u001b[0muntil\u001b[0m\u001b[1;33m(\u001b[0m\u001b[0melement_present\u001b[0m\u001b[1;33m)\u001b[0m\u001b[1;33m\u001b[0m\u001b[1;33m\u001b[0m\u001b[0m\n\u001b[0m\u001b[0;32m      5\u001b[0m \u001b[1;31m#List to hold item info\u001b[0m\u001b[1;33m\u001b[0m\u001b[1;33m\u001b[0m\u001b[0m\n\u001b[0;32m      6\u001b[0m \u001b[0mtemplist\u001b[0m \u001b[1;33m=\u001b[0m \u001b[1;33m[\u001b[0m\u001b[1;33m]\u001b[0m\u001b[1;33m\u001b[0m\u001b[1;33m\u001b[0m\u001b[0m\n",
      "\u001b[1;32m~\\anaconda3\\lib\\site-packages\\selenium\\webdriver\\support\\wait.py\u001b[0m in \u001b[0;36muntil\u001b[1;34m(self, method, message)\u001b[0m\n\u001b[0;32m     76\u001b[0m         \u001b[1;32mwhile\u001b[0m \u001b[1;32mTrue\u001b[0m\u001b[1;33m:\u001b[0m\u001b[1;33m\u001b[0m\u001b[1;33m\u001b[0m\u001b[0m\n\u001b[0;32m     77\u001b[0m             \u001b[1;32mtry\u001b[0m\u001b[1;33m:\u001b[0m\u001b[1;33m\u001b[0m\u001b[1;33m\u001b[0m\u001b[0m\n\u001b[1;32m---> 78\u001b[1;33m                 \u001b[0mvalue\u001b[0m \u001b[1;33m=\u001b[0m \u001b[0mmethod\u001b[0m\u001b[1;33m(\u001b[0m\u001b[0mself\u001b[0m\u001b[1;33m.\u001b[0m\u001b[0m_driver\u001b[0m\u001b[1;33m)\u001b[0m\u001b[1;33m\u001b[0m\u001b[1;33m\u001b[0m\u001b[0m\n\u001b[0m\u001b[0;32m     79\u001b[0m                 \u001b[1;32mif\u001b[0m \u001b[0mvalue\u001b[0m\u001b[1;33m:\u001b[0m\u001b[1;33m\u001b[0m\u001b[1;33m\u001b[0m\u001b[0m\n\u001b[0;32m     80\u001b[0m                     \u001b[1;32mreturn\u001b[0m \u001b[0mvalue\u001b[0m\u001b[1;33m\u001b[0m\u001b[1;33m\u001b[0m\u001b[0m\n",
      "\u001b[1;32m~\\anaconda3\\lib\\site-packages\\selenium\\webdriver\\support\\expected_conditions.py\u001b[0m in \u001b[0;36m_predicate\u001b[1;34m(driver)\u001b[0m\n\u001b[0;32m     62\u001b[0m \u001b[1;33m\u001b[0m\u001b[0m\n\u001b[0;32m     63\u001b[0m     \u001b[1;32mdef\u001b[0m \u001b[0m_predicate\u001b[0m\u001b[1;33m(\u001b[0m\u001b[0mdriver\u001b[0m\u001b[1;33m)\u001b[0m\u001b[1;33m:\u001b[0m\u001b[1;33m\u001b[0m\u001b[1;33m\u001b[0m\u001b[0m\n\u001b[1;32m---> 64\u001b[1;33m         \u001b[1;32mreturn\u001b[0m \u001b[0mdriver\u001b[0m\u001b[1;33m.\u001b[0m\u001b[0mfind_element\u001b[0m\u001b[1;33m(\u001b[0m\u001b[1;33m*\u001b[0m\u001b[0mlocator\u001b[0m\u001b[1;33m)\u001b[0m\u001b[1;33m\u001b[0m\u001b[1;33m\u001b[0m\u001b[0m\n\u001b[0m\u001b[0;32m     65\u001b[0m \u001b[1;33m\u001b[0m\u001b[0m\n\u001b[0;32m     66\u001b[0m     \u001b[1;32mreturn\u001b[0m \u001b[0m_predicate\u001b[0m\u001b[1;33m\u001b[0m\u001b[1;33m\u001b[0m\u001b[0m\n",
      "\u001b[1;32m~\\anaconda3\\lib\\site-packages\\selenium\\webdriver\\remote\\webdriver.py\u001b[0m in \u001b[0;36mfind_element\u001b[1;34m(self, by, value)\u001b[0m\n\u001b[0;32m   1246\u001b[0m             \u001b[0mvalue\u001b[0m \u001b[1;33m=\u001b[0m \u001b[1;34m'[name=\"%s\"]'\u001b[0m \u001b[1;33m%\u001b[0m \u001b[0mvalue\u001b[0m\u001b[1;33m\u001b[0m\u001b[1;33m\u001b[0m\u001b[0m\n\u001b[0;32m   1247\u001b[0m \u001b[1;33m\u001b[0m\u001b[0m\n\u001b[1;32m-> 1248\u001b[1;33m         return self.execute(Command.FIND_ELEMENT, {\n\u001b[0m\u001b[0;32m   1249\u001b[0m             \u001b[1;34m'using'\u001b[0m\u001b[1;33m:\u001b[0m \u001b[0mby\u001b[0m\u001b[1;33m,\u001b[0m\u001b[1;33m\u001b[0m\u001b[1;33m\u001b[0m\u001b[0m\n\u001b[0;32m   1250\u001b[0m             'value': value})['value']\n",
      "\u001b[1;32m~\\anaconda3\\lib\\site-packages\\selenium\\webdriver\\remote\\webdriver.py\u001b[0m in \u001b[0;36mexecute\u001b[1;34m(self, driver_command, params)\u001b[0m\n\u001b[0;32m    423\u001b[0m         \u001b[0mresponse\u001b[0m \u001b[1;33m=\u001b[0m \u001b[0mself\u001b[0m\u001b[1;33m.\u001b[0m\u001b[0mcommand_executor\u001b[0m\u001b[1;33m.\u001b[0m\u001b[0mexecute\u001b[0m\u001b[1;33m(\u001b[0m\u001b[0mdriver_command\u001b[0m\u001b[1;33m,\u001b[0m \u001b[0mparams\u001b[0m\u001b[1;33m)\u001b[0m\u001b[1;33m\u001b[0m\u001b[1;33m\u001b[0m\u001b[0m\n\u001b[0;32m    424\u001b[0m         \u001b[1;32mif\u001b[0m \u001b[0mresponse\u001b[0m\u001b[1;33m:\u001b[0m\u001b[1;33m\u001b[0m\u001b[1;33m\u001b[0m\u001b[0m\n\u001b[1;32m--> 425\u001b[1;33m             \u001b[0mself\u001b[0m\u001b[1;33m.\u001b[0m\u001b[0merror_handler\u001b[0m\u001b[1;33m.\u001b[0m\u001b[0mcheck_response\u001b[0m\u001b[1;33m(\u001b[0m\u001b[0mresponse\u001b[0m\u001b[1;33m)\u001b[0m\u001b[1;33m\u001b[0m\u001b[1;33m\u001b[0m\u001b[0m\n\u001b[0m\u001b[0;32m    426\u001b[0m             response['value'] = self._unwrap_value(\n\u001b[0;32m    427\u001b[0m                 response.get('value', None))\n",
      "\u001b[1;32m~\\anaconda3\\lib\\site-packages\\selenium\\webdriver\\remote\\errorhandler.py\u001b[0m in \u001b[0;36mcheck_response\u001b[1;34m(self, response)\u001b[0m\n\u001b[0;32m    245\u001b[0m                 \u001b[0malert_text\u001b[0m \u001b[1;33m=\u001b[0m \u001b[0mvalue\u001b[0m\u001b[1;33m[\u001b[0m\u001b[1;34m'alert'\u001b[0m\u001b[1;33m]\u001b[0m\u001b[1;33m.\u001b[0m\u001b[0mget\u001b[0m\u001b[1;33m(\u001b[0m\u001b[1;34m'text'\u001b[0m\u001b[1;33m)\u001b[0m\u001b[1;33m\u001b[0m\u001b[1;33m\u001b[0m\u001b[0m\n\u001b[0;32m    246\u001b[0m             \u001b[1;32mraise\u001b[0m \u001b[0mexception_class\u001b[0m\u001b[1;33m(\u001b[0m\u001b[0mmessage\u001b[0m\u001b[1;33m,\u001b[0m \u001b[0mscreen\u001b[0m\u001b[1;33m,\u001b[0m \u001b[0mstacktrace\u001b[0m\u001b[1;33m,\u001b[0m \u001b[0malert_text\u001b[0m\u001b[1;33m)\u001b[0m  \u001b[1;31m# type: ignore[call-arg]  # mypy is not smart enough here\u001b[0m\u001b[1;33m\u001b[0m\u001b[1;33m\u001b[0m\u001b[0m\n\u001b[1;32m--> 247\u001b[1;33m         \u001b[1;32mraise\u001b[0m \u001b[0mexception_class\u001b[0m\u001b[1;33m(\u001b[0m\u001b[0mmessage\u001b[0m\u001b[1;33m,\u001b[0m \u001b[0mscreen\u001b[0m\u001b[1;33m,\u001b[0m \u001b[0mstacktrace\u001b[0m\u001b[1;33m)\u001b[0m\u001b[1;33m\u001b[0m\u001b[1;33m\u001b[0m\u001b[0m\n\u001b[0m\u001b[0;32m    248\u001b[0m \u001b[1;33m\u001b[0m\u001b[0m\n\u001b[0;32m    249\u001b[0m     \u001b[1;32mdef\u001b[0m \u001b[0m_value_or_default\u001b[0m\u001b[1;33m(\u001b[0m\u001b[0mself\u001b[0m\u001b[1;33m,\u001b[0m \u001b[0mobj\u001b[0m\u001b[1;33m:\u001b[0m \u001b[0mMapping\u001b[0m\u001b[1;33m[\u001b[0m\u001b[0m_KT\u001b[0m\u001b[1;33m,\u001b[0m \u001b[0m_VT\u001b[0m\u001b[1;33m]\u001b[0m\u001b[1;33m,\u001b[0m \u001b[0mkey\u001b[0m\u001b[1;33m:\u001b[0m \u001b[0m_KT\u001b[0m\u001b[1;33m,\u001b[0m \u001b[0mdefault\u001b[0m\u001b[1;33m:\u001b[0m \u001b[0m_VT\u001b[0m\u001b[1;33m)\u001b[0m \u001b[1;33m->\u001b[0m \u001b[0m_VT\u001b[0m\u001b[1;33m:\u001b[0m\u001b[1;33m\u001b[0m\u001b[1;33m\u001b[0m\u001b[0m\n",
      "\u001b[1;31mNoSuchWindowException\u001b[0m: Message: no such window: window was already closed\n  (Session info: chrome=104.0.5112.82)\nStacktrace:\nBacktrace:\n\tOrdinal0 [0x00A35FD3+2187219]\n\tOrdinal0 [0x009CE6D1+1763025]\n\tOrdinal0 [0x008E3E78+802424]\n\tOrdinal0 [0x008D9AC4+760516]\n\tOrdinal0 [0x008DAB02+764674]\n\tOrdinal0 [0x008D4379+738169]\n\tOrdinal0 [0x008E51D0+807376]\n\tOrdinal0 [0x0093C7A2+1165218]\n\tOrdinal0 [0x0092C9A6+1100198]\n\tOrdinal0 [0x00906F80+946048]\n\tOrdinal0 [0x00907E76+949878]\n\tGetHandleVerifier [0x00CD90C2+2721218]\n\tGetHandleVerifier [0x00CCAAF0+2662384]\n\tGetHandleVerifier [0x00AC137A+526458]\n\tGetHandleVerifier [0x00AC0416+522518]\n\tOrdinal0 [0x009D4EAB+1789611]\n\tOrdinal0 [0x009D97A8+1808296]\n\tOrdinal0 [0x009D9895+1808533]\n\tOrdinal0 [0x009E26C1+1844929]\n\tBaseThreadInitThunk [0x74EEFA29+25]\n\tRtlGetAppContainerNamedObjectPath [0x77067A9E+286]\n\tRtlGetAppContainerNamedObjectPath [0x77067A6E+238]\n"
     ]
    }
   ],
   "source": [
    "url = f\"https://capitalcityonlineauction.com/Public/Auction\"\n",
    "driver.get(url)\n",
    "element_present = EC.presence_of_element_located((By.XPATH, r\"/html/body/div[1]/div[2]/div[2]/div[1]/div[1]/div[2]/div/div[3]/div[1]\"))\n",
    "WebDriverWait(driver, timeout).until(element_present)\n",
    "#List to hold item info\n",
    "templist = []\n",
    "#Get Links on Homepage\n",
    "links = []\n",
    "#Will add automatic ceiling for i\n",
    "i = 1\n",
    "#Get all links from home page ----needs a +1\n",
    "while i < scrape:\n",
    "    target = driver.find_element_by_xpath(f'//*[@id=\"AuctionList\"]/div[1]/div[{i}]/div/div[2]/div[3]/a').get_attribute('onclick')\n",
    "    length = len(target)\n",
    "    site = \"https://capitalcityonlineauction.com\"+target[21:(length-2)]\n",
    "    links.append(site)\n",
    "    i+=1"
   ]
  },
  {
   "cell_type": "code",
   "execution_count": null,
   "id": "0f1975d8",
   "metadata": {},
   "outputs": [],
   "source": [
    "j=0"
   ]
  },
  {
   "cell_type": "code",
   "execution_count": null,
   "id": "0e990531",
   "metadata": {
    "scrolled": true
   },
   "outputs": [],
   "source": [
    "#open pages loop\n",
    "while j < (scrape-1):\n",
    "    auction = links[j]\n",
    "    driver.get(auction)\n",
    "    #Count Page numbers in Auction\n",
    "    pages = int(driver.find_element_by_xpath('//*[@id=\"page-wrapper\"]/div[2]/div[1]/div[1]/div[4]/div/div[5]/div/div[1]/div[2]/div[5]/span[2]').text)\n",
    "    #Loop through pages\n",
    "    k=0\n",
    "    while k < pages:\n",
    "        #Select Page [k], skip select if first page\n",
    "        if k > 0 :\n",
    "            driver.find_element_by_xpath(f'//*[@id=\"contentPager\"]/nav/ul/li[{(k+3)}]/a').click()\n",
    "        else:\n",
    "            k=0\n",
    "        #Count items on current page by splitting x - y of z items\n",
    "        page_items = driver.find_element_by_xpath('//*[@id=\"contentPager\"]/div').text\n",
    "        #Not needed, helps navigate\n",
    "        print(page_items)\n",
    "        #Splits string by spaces\n",
    "        str = page_items.split()\n",
    "        #first item number of page\n",
    "        first = int(str[0])\n",
    "        #last item number of page\n",
    "        total = int(str[2])\n",
    "        #Get total items on page\n",
    "        items = total - first\n",
    "        #loop through items\n",
    "        count=0 \n",
    "        while count < items+1:\n",
    "            #seems to have one of two xpaths, selects whichver is present to get item url \n",
    "            #Broke here ---- if driver = None? Element not present?\n",
    "            try:\n",
    "                driver.find_element_by_xpath(f'//*[@id=\"divAuctionItem_0\"]/div[1]/h4[2]/a')\n",
    "                connect = driver.find_element_by_xpath(f'//*[@id=\"divAuctionItem_{count}\"]/div[1]/h4[2]/a').get_attribute('href')\n",
    "            except:\n",
    "                try:\n",
    "                    connect = driver.find_element_by_xpath(f'//*[@id=\"AuctionItemsList\"]/div[4]/div/div[{count+1}]/div[2]/div/div[1]/h4[2]/a').get_attribute('href')\n",
    "                except:\n",
    "                    connect = driver.find_element_by_xpath(f'//*[@id=\"carouselExampleControls_{count}\"]/div/a').get_attribute('href')\n",
    "            print(connect)\n",
    "            #Auction Location Text\n",
    "            location = driver.find_element_by_xpath('//*[@id=\"page-wrapper\"]/div[2]/div[1]/div[1]/div[4]/div/div[2]/div[2]/div[1]/span').text\n",
    "            #Auction End Time\n",
    "            end = driver.find_element_by_xpath('//*[@id=\"page-wrapper\"]/div[2]/div[1]/div[1]/div[4]/div/div[2]/div[2]/div[1]/div/div[2]/p[2]').text\n",
    "            #Item Lot Number --- Appears to be a persistant issue with different xpaths\n",
    "            try:\n",
    "                driver.find_element_by_xpath(f'//*[@id=\"divAuctionItem_0\"]/div[1]/h4[1]/a')\n",
    "                lot = driver.find_element_by_xpath(f'//*[@id=\"divAuctionItem_{count}\"]/div[1]/h4[1]/a/span').text\n",
    "            except:\n",
    "                lot = driver.find_element_by_xpath(f'//*[@id=\"AuctionItemsList\"]/div[4]/div/div[{count+1}]/div[2]/div/div[1]/h4[1]/a/span').text\n",
    "            #Item Decriptions\n",
    "            try:\n",
    "                driver.find_element_by_xpath(f'//*[@id=\"divAuctionItem_0\"]/div[1]/h4[2]/a')\n",
    "                desc = driver.find_element_by_xpath(f'//*[@id=\"divAuctionItem_{count}\"]/div[1]/h4[2]/a').text\n",
    "            except:\n",
    "                try:\n",
    "                    desc = driver.find_element_by_xpath(f'//*[@id=\"AuctionItemsList\"]/div[4]/div/div[{count+1}]/div[2]/div/div[1]/h4[2]/a').text\n",
    "                except:\n",
    "                    desc = \"None\"\n",
    "            #Item Sku\n",
    "            try:\n",
    "                driver.find_element_by_xpath(f'//*[@id=\"divAuctionItem_0\"]/div[1]/p')\n",
    "                sku = driver.find_element_by_xpath(f'//*[@id=\"divAuctionItem_{count}\"]/div[1]/p').text\n",
    "            except:\n",
    "                sku = driver.find_element_by_xpath(f'//*[@id=\"AuctionItemsList\"]/div[4]/div/div[{count+1}]/div[2]/div/div[1]/p').text\n",
    "            #Item Bullets, MSRP most important here but likely will remove\n",
    "            try:\n",
    "                driver.find_element_by_xpath(f'//*[@id=\"divAuctionItem_0\"]/div[2]/div/div')\n",
    "                bul = driver.find_element_by_xpath(f'//*[@id=\"divAuctionItem_{count}\"]/div[2]/div/div').text\n",
    "            except:\n",
    "                bul = driver.find_element_by_xpath(f'//*[@id=\"AuctionItemsList\"]/div[4]/div/div[{count+1}]/div[2]/div/div[1]/div[2]').text\n",
    "            #Current Bid\n",
    "            bid = driver.find_element_by_xpath(f'//*[@id=\"CurrentBidAmount_{count}\"]').text\n",
    "            #Next Min Bid To be added. Everything looks good in pop and manually navigated to window...not essential\n",
    "            #bidnext = driver.find_element_by_xpath(f'//*[@id=\"divAuctionItem_{count}\"]/div[7]/div').text\n",
    "            #print(bidnext)\n",
    "            #Puts in df table\n",
    "            Table_dict={'URL': connect, 'Location': location, 'End Time': end, 'Lot No.': lot, 'Description': desc, 'Sku': sku, 'Bullets': bul, 'Current Bid': bid}\n",
    "            templist.append(Table_dict)\n",
    "            df = pd.DataFrame(templist)\n",
    "            count+=1\n",
    "        k+=1\n",
    "    j+=1\n",
    "#export to csv\n",
    "df.to_csv(f'C:\\\\Users\\\\Steven\\\\Desktop\\\\ItemsList.csv') \n",
    "    "
   ]
  },
  {
   "cell_type": "code",
   "execution_count": null,
   "id": "be8186de",
   "metadata": {},
   "outputs": [],
   "source": [
    "print(\"Complete\")"
   ]
  },
  {
   "cell_type": "code",
   "execution_count": null,
   "id": "186d7b64",
   "metadata": {},
   "outputs": [],
   "source": []
  }
 ],
 "metadata": {
  "kernelspec": {
   "display_name": "Python 3 (ipykernel)",
   "language": "python",
   "name": "python3"
  },
  "language_info": {
   "codemirror_mode": {
    "name": "ipython",
    "version": 3
   },
   "file_extension": ".py",
   "mimetype": "text/x-python",
   "name": "python",
   "nbconvert_exporter": "python",
   "pygments_lexer": "ipython3",
   "version": "3.9.7"
  }
 },
 "nbformat": 4,
 "nbformat_minor": 5
}
